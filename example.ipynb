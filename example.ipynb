{
 "cells": [
  {
   "cell_type": "markdown",
   "metadata": {},
   "source": [
    "## Start pragyantra"
   ]
  },
  {
   "cell_type": "code",
   "execution_count": null,
   "metadata": {},
   "outputs": [],
   "source": [
    "from core.manas import Manas"
   ]
  },
  {
   "cell_type": "code",
   "execution_count": null,
   "metadata": {},
   "outputs": [],
   "source": [
    "#create online mode instance\n",
    "#either provide groq_api_key as argument or add a \"GROQ_API_KEY\" variable to \".env\" file in root dir\n",
    "robo=Manas(interpreter_model=\"llama3-8B-8192\",offline_mode=False,\n",
    "           groq_api_key=\"xxxxxxx\",speaker_model=\"pyttsx3\")\n",
    "\n",
    "# # create offline mode instance\n",
    "# # make sure you have quantized gguf file in models directory\n",
    "# # if you want to use Eleven labs speech model, add a \"SPEECH_KEY\" variable to .env file in root dir\n",
    "# robo=Manas(interpreter_model=\"llama3_8B.gguf\",offline_mode=True, speaker_model=\"lllabs\")\n",
    "\n",
    "robo.setup()"
   ]
  },
  {
   "cell_type": "code",
   "execution_count": null,
   "metadata": {},
   "outputs": [],
   "source": [
    "robo.start()"
   ]
  },
  {
   "cell_type": "code",
   "execution_count": null,
   "metadata": {},
   "outputs": [],
   "source": [
    "robo.terminate()"
   ]
  },
  {
   "cell_type": "markdown",
   "metadata": {},
   "source": [
    "## MemoryStore demo"
   ]
  },
  {
   "cell_type": "code",
   "execution_count": 1,
   "metadata": {},
   "outputs": [
    {
     "name": "stderr",
     "output_type": "stream",
     "text": [
      "c:\\Users\\srira\\anaconda3\\envs\\pragyantra\\Lib\\site-packages\\tqdm\\auto.py:21: TqdmWarning: IProgress not found. Please update jupyter and ipywidgets. See https://ipywidgets.readthedocs.io/en/stable/user_install.html\n",
      "  from .autonotebook import tqdm as notebook_tqdm\n"
     ]
    }
   ],
   "source": [
    "from memory.vector_db import MemoryStoreSB"
   ]
  },
  {
   "cell_type": "code",
   "execution_count": 2,
   "metadata": {},
   "outputs": [
    {
     "name": "stderr",
     "output_type": "stream",
     "text": [
      "c:\\Users\\srira\\anaconda3\\envs\\pragyantra\\Lib\\site-packages\\huggingface_hub\\file_download.py:1132: FutureWarning: `resume_download` is deprecated and will be removed in version 1.0.0. Downloads always resume when possible. If you want to force a new download, use `force_download=True`.\n",
      "  warnings.warn(\n",
      "You are using the default legacy behaviour of the <class 'transformers.models.t5.tokenization_t5.T5Tokenizer'>. This is expected, and simply means that the `legacy` (previous) behavior will be used so nothing changes for you. If you want to use the new behaviour, set `legacy=False`. This should only be set if you understand what it means, and thoroughly read the reason why this was added as explained in https://github.com/huggingface/transformers/pull/24565\n",
      "Special tokens have been added in the vocabulary, make sure the associated word embeddings are fine-tuned or trained.\n"
     ]
    }
   ],
   "source": [
    "db = MemoryStoreSB()\n",
    "db.load(\"memory.h5\")"
   ]
  },
  {
   "cell_type": "code",
   "execution_count": 3,
   "metadata": {},
   "outputs": [
    {
     "data": {
      "text/plain": [
       "'Memory with 15 nodes'"
      ]
     },
     "execution_count": 3,
     "metadata": {},
     "output_type": "execute_result"
    }
   ],
   "source": [
    "str(db)"
   ]
  },
  {
   "cell_type": "code",
   "execution_count": 4,
   "metadata": {},
   "outputs": [
    {
     "data": {
      "text/plain": [
       "'MemoryNode: 26/03/2023 15:30 - Family Vacation to Italy'"
      ]
     },
     "execution_count": 4,
     "metadata": {},
     "output_type": "execute_result"
    }
   ],
   "source": [
    "str(db[202303261530])"
   ]
  },
  {
   "cell_type": "code",
   "execution_count": 5,
   "metadata": {},
   "outputs": [
    {
     "name": "stdout",
     "output_type": "stream",
     "text": [
      "MemoryNode: 08/01/1921 21:00 - Scuba Diving in the Great Barrier Reef\n",
      "MemoryNode: 08/09/1921 18:30 - Road Trip Across America\n"
     ]
    }
   ],
   "source": [
    "for node in db[1921]:\n",
    "    print(node)"
   ]
  },
  {
   "cell_type": "code",
   "execution_count": 6,
   "metadata": {},
   "outputs": [
    {
     "name": "stdout",
     "output_type": "stream",
     "text": [
      "No vectors found for the given date.\n",
      " Searching entire database....\n",
      "Similar vectors sb: [('202210252200', 0.6939346790313721, 'Hiking Mount Kilimanjaro'), ('192109081830', 0.4317396581172943, 'Road Trip Across America'), ('202206102000', 0.2859359383583069, 'Completing a Marathon')]\n",
      "No vectors found for the given date.\n",
      " Searching entire database....\n",
      "Similar vectors sb: [('192101082100', 0.6095985174179077, 'Scuba Diving in the Great Barrier Reef'), ('192109081830', 0.3700796663761139, 'Road Trip Across America'), ('202210252200', 0.2627335488796234, 'Hiking Mount Kilimanjaro')]\n",
      "Similar vectors sb: [('182011261100', 0.3547857999801636, 'Attending a Music Festival')]\n",
      "Similar vectors sb: [('202107141830', 0.03765495494008064, 'Volunteering at a Homeless Shelter')]\n"
     ]
    }
   ],
   "source": [
    "# Example queries\n",
    "query_texts = [\n",
    "    \"Recall the experience of hiking Mount Kilimanjaro.\",\n",
    "    \"Retrieve memory of scuba diving in the Great Barrier Reef.\",\n",
    "    \"Music and songs\",\n",
    "    \"Covid 19 pandemic\",\n",
    "]\n",
    "dates = [None,None,1820,2021]\n",
    "for i,query in enumerate(query_texts):\n",
    "\n",
    "    results1 = db.query(query,date=dates[i],date_type='year', k=3)\n",
    "    print(\"Similar vectors sb:\", results1)\n"
   ]
  },
  {
   "cell_type": "code",
   "execution_count": null,
   "metadata": {},
   "outputs": [],
   "source": []
  }
 ],
 "metadata": {
  "kernelspec": {
   "display_name": "pragyantra",
   "language": "python",
   "name": "python3"
  },
  "language_info": {
   "codemirror_mode": {
    "name": "ipython",
    "version": 3
   },
   "file_extension": ".py",
   "mimetype": "text/x-python",
   "name": "python",
   "nbconvert_exporter": "python",
   "pygments_lexer": "ipython3",
   "version": "3.12.3"
  }
 },
 "nbformat": 4,
 "nbformat_minor": 2
}
